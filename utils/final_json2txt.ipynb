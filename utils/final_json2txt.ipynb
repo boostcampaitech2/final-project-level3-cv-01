{
 "cells": [
  {
   "cell_type": "code",
   "execution_count": 1,
   "metadata": {},
   "outputs": [],
   "source": [
    "import json\n",
    "import os\n",
    "from pathlib import Path"
   ]
  },
  {
   "cell_type": "code",
   "execution_count": 2,
   "metadata": {},
   "outputs": [],
   "source": [
    "directory = ['train/','val/','test/']"
   ]
  },
  {
   "cell_type": "code",
   "execution_count": 3,
   "metadata": {},
   "outputs": [],
   "source": [
    "# 이미지 train, val, test 있는 디렉터리를 지정해주세요.\n",
    "path = '/opt/ml/final-project-level3-cv-01/data/'"
   ]
  },
  {
   "cell_type": "code",
   "execution_count": 4,
   "metadata": {},
   "outputs": [],
   "source": [
    "# labels 디렉터리를 temp라는 이름으로 바꿔주고, 새로 labels 디렉터리를 만듭니다.\n",
    "for i in range(len(directory)):\n",
    "    os.rename(path + directory[i] + 'labels', path + directory[i] + 'temp')\n",
    "    os.mkdir(path + directory[i] + 'labels')"
   ]
  },
  {
   "cell_type": "code",
   "execution_count": 5,
   "metadata": {},
   "outputs": [],
   "source": [
    "def convert_yolor(size, box):\n",
    "    dw = 1./size[0]\n",
    "    dh = 1./size[1]\n",
    "    \n",
    "    x = box[0]\n",
    "    y = box[1]\n",
    "    w = box[2]\n",
    "    h = box[3]\n",
    "    \n",
    "    x = x*dw\n",
    "    w = w*dw\n",
    "    y = y*dh\n",
    "    h = h*dh\n",
    "    return (x,y,w,h)"
   ]
  },
  {
   "cell_type": "code",
   "execution_count": 6,
   "metadata": {},
   "outputs": [],
   "source": [
    "for k in range(len(directory)):\n",
    "    img_list = os.listdir(path+directory[k]+'temp/')\n",
    "    for i in range(len(img_list)):\n",
    "        with Path(path+directory[k]+'temp/' + img_list[i]).open(encoding='utf8') as handle:\n",
    "            ann = json.load(handle)\n",
    "        idx = img_list[i].index('.')\n",
    "        with open(path + directory[k] + 'labels/' + img_list[i][:idx] + '.txt','w') as f:\n",
    "            for j in range(len(ann['objects'])):\n",
    "                size = (ann['size']['width'],ann['size']['height'])\n",
    "                box = ann['objects'][j]['points']['exterior']\n",
    "                p1 = box[0]\n",
    "                p2 = box[1]\n",
    "                center = [p1[0] + (p2[0] - p1[0])/2, p1[1] + (p2[1] - p1[1])/2]\n",
    "                w = p2[0] - p1[0]\n",
    "                h = p2[1] - p1[1]\n",
    "                temp = [center[0], center[1], w, h]\n",
    "                label = ann['objects'][j]['classTitle']\n",
    "                conv_ann = convert_yolor(size, temp)\n",
    "                s = str(label) + ' ' + str(conv_ann[0]) + ' ' + str(conv_ann[1]) + ' ' + str(conv_ann[2]) + ' ' + str(conv_ann[3]) + '\\n'\n",
    "                f.write(s)"
   ]
  },
  {
   "cell_type": "code",
   "execution_count": null,
   "metadata": {},
   "outputs": [],
   "source": [
    "'''\n",
    "for k in range(len(directory)):\n",
    "    img_list = os.listdir(path+directory[k]+'labels/')\n",
    "    for i in range(len(img_list)):\n",
    "        with Path(path+directory[k]+'labels/' + img_list[i]).open(encoding='utf8') as handle:\n",
    "            ann = json.load(handle)\n",
    "        idx = img_list[i].index('.')\n",
    "        with open(path + directory[k] + 'txt/' + img_list[i][:idx] + '.txt','w') as f:\n",
    "            for j in range(len(ann['objects'])):\n",
    "                size = (ann['size']['width'],ann['size']['height'])\n",
    "                box = ann['objects'][j]['points']['exterior']\n",
    "                p1 = box[0]\n",
    "                p2 = box[1]\n",
    "                center = [p1[0] + (p2[0] - p1[0])/2, p1[1] + (p2[1] - p1[1])/2]\n",
    "                w = p2[0] - p1[0]\n",
    "                h = p2[1] - p1[1]\n",
    "                temp = [center[0], center[1], w, h]\n",
    "                label = ann['objects'][j]['classTitle']\n",
    "                conv_ann = convert_yolor(size, temp)\n",
    "                s = str(label) + ' ' + str(conv_ann[0]) + ' ' + str(conv_ann[1]) + ' ' + str(conv_ann[2]) + ' ' + str(conv_ann[3]) + '\\n'\n",
    "                f.write(s)\n",
    "'''"
   ]
  },
  {
   "cell_type": "code",
   "execution_count": 177,
   "metadata": {},
   "outputs": [],
   "source": [
    "'''\n",
    "train = []\n",
    "val = []\n",
    "test = []\n",
    "cnt = 0\n",
    "len_list = len(r_img_list)\n",
    "temp_len = len(r_img_list)\n",
    "ratio = [7,2,1]\n",
    "len_ratio = []\n",
    "for i in range(3):\n",
    "    if i == 2:\n",
    "        len_ratio.append(len_list - sum(len_ratio))\n",
    "    else:\n",
    "        len_ratio.append(round(len_list/10 * ratio[i]))\n",
    "        \n",
    "rlist = [x for x in range(0,len(r_img_list))]\n",
    "temp_list = [x for x in range(0,len(r_img_list))]\n",
    "\n",
    "train = random.sample(temp_list,len_ratio[0])\n",
    "temp_list = [x for x in temp_list if x not in train]\n",
    "val = random.sample(temp_list,len_ratio[1])\n",
    "test = [x for x in temp_list if x not in val]\n",
    "\n",
    "\n",
    "copy_img_list = sorted(os.listdir(path+directory[c]+'images/'))\n",
    "copy_label_list = sorted(os.listdir(path+directory[c]+'txt/'))\n",
    "\n",
    "'''"
   ]
  },
  {
   "cell_type": "code",
   "execution_count": 181,
   "metadata": {},
   "outputs": [],
   "source": [
    "'''\n",
    "for i in range(3):\n",
    "    tvt = [train,val,test]\n",
    "    for j in range(len(tvt[i])):\n",
    "        \n",
    "        if i == 0:\n",
    "            shutil.copy(path+directory[c] + 'images/' + copy_img_list[train[j]],\n",
    "                        dst_path + 'train/images/' + copy_img_list[train[j]])\n",
    "            shutil.copy(path+directory[c] + 'txt/' + copy_label_list[train[j]],\n",
    "                        dst_path + 'train/labels/' + copy_label_list[train[j]])\n",
    "            #print(copy_img_list[tvt[i][j]])\n",
    "        if i == 1:\n",
    "            shutil.copy(path+directory[c] + 'images/' + copy_img_list[val[j]],\n",
    "                        dst_path + 'val/images/' + copy_img_list[val[j]])\n",
    "            shutil.copy(path+directory[c] + 'txt/' + copy_label_list[val[j]],\n",
    "                        dst_path + 'val/labels/' + copy_label_list[val[j]])\n",
    "        if i == 2:\n",
    "            shutil.copy(path+directory[c] + 'images/' + copy_img_list[test[j]],\n",
    "                        dst_path + 'test/images/' + copy_img_list[test[j]])\n",
    "            shutil.copy(path+directory[c] + 'txt/' + copy_label_list[test[j]],\n",
    "                        dst_path + 'test/labels/' + copy_label_list[test[j]])\n",
    "'''"
   ]
  },
  {
   "cell_type": "code",
   "execution_count": 19,
   "metadata": {},
   "outputs": [],
   "source": [
    "'''\n",
    "for i in range(len(img_list)):\n",
    "    with Path(path+'labels/'+img_list[i]).open(encoding='utf8') as handle:\n",
    "        ann = json.load(handle)\n",
    "    with open(path+'test_txt/'+img_list[i][:-9]+'.txt','w') as f:\n",
    "        for j in range(len(ann['objects'])):\n",
    "            size = (ann['size']['width'], ann['size']['height'])\n",
    "            t = ann['objects'][j]['points']['exterior']\n",
    "            p1 = t[0]\n",
    "            p2 = t[1]\n",
    "            center = [p1[0] + (p2[0] - p1[0])/2, p1[1] + (p2[1] - p1[1])/2]\n",
    "            h = center[1] - p1[1]\n",
    "            w = center[0] - p1[0]\n",
    "            temp = [center[0], center[1], w, h]\n",
    "            #temp = [p1[0],p1[1],p2[0]-p1[0],p2[1]-p1[1]]\n",
    "            #temp = [p1[0],p1[1],p2[0],p2[1]]\n",
    "            label = ann['objects'][j]['classTitle']\n",
    "            a = convert_yolor(size, temp)\n",
    "            s = str(label) + ' ' + str(a[0]) + ' ' + str(a[1]) + ' ' + str(a[2]) + ' ' + str(a[3]) + '\\n'\n",
    "            f.write(s)\n",
    "'''"
   ]
  }
 ],
 "metadata": {
  "kernelspec": {
   "display_name": "lightweight",
   "language": "python",
   "name": "lightweight"
  },
  "language_info": {
   "codemirror_mode": {
    "name": "ipython",
    "version": 3
   },
   "file_extension": ".py",
   "mimetype": "text/x-python",
   "name": "python",
   "nbconvert_exporter": "python",
   "pygments_lexer": "ipython3",
   "version": "3.7.11"
  }
 },
 "nbformat": 4,
 "nbformat_minor": 5
}
